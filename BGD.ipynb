{
 "cells": [
  {
   "cell_type": "code",
   "execution_count": 1,
   "metadata": {},
   "outputs": [],
   "source": [
    "import numpy as np\n",
    "import matplotlib.pyplot as plt\n",
    "import pandas as pd\n",
    "from sklearn.preprocessing import StandardScaler\n",
    "from sklearn import datasets\n",
    "from sklearn.model_selection import train_test_split"
   ]
  },
  {
   "cell_type": "code",
   "execution_count": 45,
   "metadata": {},
   "outputs": [],
   "source": [
    "def preprocess(data):\n",
    "\n",
    "    X = data.data\n",
    "    y = data.target\n",
    "\n",
    "    scaler = StandardScaler()\n",
    "    X = scaler.fit_transform(X)\n",
    "\n",
    "    X_train, X_test, y_train, y_test = train_test_split(X, y, test_size=0.20, random_state=42)\n",
    "\n",
    "    X_test = np.insert(X_test, 0, 1, axis = 1)  #bias for x_train is added in grad_descent()\n",
    "\n",
    "    y_train = pd.get_dummies(y_train).values\n",
    "    y_test = pd.get_dummies(y_test).values\n",
    "    \n",
    "    return X_train, X_test, y_train, y_test"
   ]
  },
  {
   "cell_type": "code",
   "execution_count": 9,
   "metadata": {},
   "outputs": [],
   "source": [
    "def softmax(u):\n",
    "    expu = np.exp(u)\n",
    "    return expu / np.sum(expu)"
   ]
  },
  {
   "cell_type": "code",
   "execution_count": 10,
   "metadata": {},
   "outputs": [],
   "source": [
    "def crossEntropy(p,q):\n",
    "    return -np.vdot(p,np.log(q))"
   ]
  },
  {
   "cell_type": "code",
   "execution_count": 11,
   "metadata": {},
   "outputs": [],
   "source": [
    "def grad_L(X,Y,beta):\n",
    "    N = X.shape[0]\n",
    "    L = 0.0\n",
    "    \n",
    "    for i in range(N):\n",
    "        XiHat = X[i]\n",
    "        Yi = Y[i]\n",
    "        qi = softmax(beta @ XiHat)\n",
    "        \n",
    "        L += crossEntropy(Yi, qi)\n",
    "        \n",
    "    return L"
   ]
  },
  {
   "cell_type": "code",
   "execution_count": 41,
   "metadata": {},
   "outputs": [],
   "source": [
    "def grad_descent(X,Y, alpha):\n",
    "    numIters = 500\n",
    "    N, d = X.shape\n",
    "    X = np.insert(X,0,1,axis = 1)\n",
    "    K = Y.shape[1]\n",
    "    \n",
    "    beta = np.zeros((K, d+1))\n",
    "    Lvals = []\n",
    "    \n",
    "    for num in range(numIters):\n",
    "        \n",
    "        L = grad_L(X,Y,beta)\n",
    "        Lvals.append(L)\n",
    "\n",
    "        grad = 0\n",
    "            \n",
    "        for i in range(N):     #one row from the training data at a time\n",
    "\n",
    "            XiHat = X[i]\n",
    "            Yi = Y[i]\n",
    "\n",
    "            qi = softmax(beta @ XiHat)\n",
    "            grad_Li = np.outer(qi - Yi, XiHat)\n",
    "            grad += grad_Li            #grad is the loss for one iter of training data\n",
    "\n",
    "        beta = beta - alpha * grad\n",
    "    \n",
    "    \n",
    "    return beta, Lvals"
   ]
  },
  {
   "cell_type": "code",
   "execution_count": 47,
   "metadata": {},
   "outputs": [],
   "source": [
    "# prediction\n",
    "def predict(X_test, y_test, beta):\n",
    "    N = X_test.shape[0]\n",
    "    K = 3\n",
    "    total = 0\n",
    "\n",
    "    for i in range(N):\n",
    "        xiHat = X_test[[i]]\n",
    "        yi = np.zeros((K,1))\n",
    "        yi[y_test[i]] = 1\n",
    "\n",
    "        qi = softmax(beta @ xiHat.transpose())\n",
    "        max_prob = qi.argmax()                         #get index of highest probability in my ith example\n",
    "\n",
    "        test_pred = np.zeros((K,1))                   \n",
    "        test_pred[max_prob] = 1                       #convert probability vector to a vector with 0 and 1 only\n",
    "\n",
    "        check = np.vdot(test_pred, yi)                #element wise multiplication, if match, then check = 1, if no match, check = 0 \n",
    "        total += check\n",
    "\n",
    "    print(\"Accuracy: \", (total / N) * 100, \"%\")"
   ]
  },
  {
   "cell_type": "code",
   "execution_count": 49,
   "metadata": {},
   "outputs": [
    {
     "name": "stdout",
     "output_type": "stream",
     "text": [
      "Accuracy:  63.33333333333333 %\n"
     ]
    },
    {
     "data": {
      "image/png": "[encoded data removed]",
      "text/plain": [
       "<Figure size 432x288 with 1 Axes>"
      ]
     },
     "metadata": {
      "needs_background": "light"
     },
     "output_type": "display_data"
    }
   ],
   "source": [
    "data = datasets.load_iris()\n",
    "X_train, X_test, y_train, y_test = preprocess(data)\n",
    "\n",
    "alpha = 0.01\n",
    "beta, Lvals = grad_descent(X_train, y_train, alpha)\n",
    "\n",
    "plt.plot(Lvals)\n",
    "\n",
    "predict(X_test, y_test, beta)"
   ]
  },
  {
   "cell_type": "code",
   "execution_count": null,
   "metadata": {},
   "outputs": [],
   "source": []
  }
 ],
 "metadata": {
  "kernelspec": {
   "display_name": "Python 3",
   "language": "python",
   "name": "python3"
  },
  "language_info": {
   "codemirror_mode": {
    "name": "ipython",
    "version": 3
   },
   "file_extension": ".py",
   "mimetype": "text/x-python",
   "name": "python",
   "nbconvert_exporter": "python",
   "pygments_lexer": "ipython3",
   "version": "3.8.5"
  }
 },
 "nbformat": 4,
 "nbformat_minor": 4
}
