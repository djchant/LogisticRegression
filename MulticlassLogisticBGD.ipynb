{
 "cells": [
  {
   "cell_type": "code",
   "execution_count": 1,
   "metadata": {},
   "outputs": [],
   "source": [
    "import numpy as np\n",
    "import matplotlib.pyplot as plt\n",
    "import pandas as pd\n",
    "from sklearn.preprocessing import StandardScaler\n",
    "from sklearn import datasets\n",
    "from sklearn.model_selection import train_test_split"
   ]
  },
  {
   "cell_type": "code",
   "execution_count": 2,
   "metadata": {},
   "outputs": [],
   "source": [
    "dataset = datasets.load_iris()\n",
    "X = dataset.data\n",
    "y = dataset.target"
   ]
  },
  {
   "cell_type": "code",
   "execution_count": 3,
   "metadata": {},
   "outputs": [],
   "source": [
    "scaler = StandardScaler()\n",
    "train = scaler.fit_transform(X)\n",
    "\n",
    "X_train, X_test, y_train, y_test = train_test_split(train, y, test_size=0.20, random_state=42)\n",
    "\n",
    "X = np.insert(X_train, 0, 1, axis = 1)\n",
    "X_val = np.insert(X_test, 0, 1, axis = 1)"
   ]
  },
  {
   "cell_type": "code",
   "execution_count": 4,
   "metadata": {},
   "outputs": [],
   "source": [
    "def cross_entropy(beta, xiHat, yi, K):\n",
    "    y_pred = beta @ xiHat\n",
    "    qi = softmax(y_pred)\n",
    "    qi = np.log(qi)\n",
    "    \n",
    "    pi = yi                  \n",
    "    loss = 0\n",
    "\n",
    "    loss = -np.vdot(pi, qi)     #1x1\n",
    "    \n",
    "\n",
    "    return loss"
   ]
  },
  {
   "cell_type": "code",
   "execution_count": 5,
   "metadata": {},
   "outputs": [],
   "source": [
    "def softmax(x):  #Kx1\n",
    "    \n",
    "    denom = sum(np.exp(x))    #1x1\n",
    "    x = np.exp(x) / denom\n",
    "        \n",
    "    return x  #Kx1"
   ]
  },
  {
   "cell_type": "code",
   "execution_count": 6,
   "metadata": {},
   "outputs": [],
   "source": [
    "def grad_L(beta, X, y, K):\n",
    "    N = X.shape[0]       #160\n",
    "    grad = np.zeros((K, 5))\n",
    "\n",
    "    for i in range(N):\n",
    "        xiHat = X[[i]]           #1x5   \n",
    "        yi = np.zeros((K,1))   \n",
    "        yi[y[i]] = 1\n",
    "        qi = softmax(beta @ xiHat.transpose())\n",
    "        \n",
    "        grad_i = (qi - yi) @ xiHat     #Kx(d+1)\n",
    "        \n",
    "        grad += grad_i \n",
    "\n",
    "    return grad/N     #Kx(d+1)"
   ]
  },
  {
   "cell_type": "code",
   "execution_count": 27,
   "metadata": {},
   "outputs": [],
   "source": [
    "def grad_descent(X, y):\n",
    "    alpha = 0.001\n",
    "    iterations = 500\n",
    "    K = 3\n",
    "    N, d_plus_1 = X.shape\n",
    "    L_vals = np.zeros(iterations)\n",
    "    beta_t = np.zeros((K,d_plus_1))        #Kx5\n",
    "        \n",
    "    for t in range(iterations):\n",
    "        temp = 0\n",
    "        for i in range(N):\n",
    "            xiHat = X[[i]].transpose()\n",
    "            yi = np.zeros((K,1))\n",
    "            yi[y[i]] = 1\n",
    "            temp = cross_entropy(beta_t, xiHat, yi, K)\n",
    "            \n",
    "        L_vals[t] = temp\n",
    "        \n",
    "        beta_t = beta_t - alpha*grad_L(beta_t, X, y, K)\n",
    "    \n",
    "    return beta_t, L_vals"
   ]
  },
  {
   "cell_type": "code",
   "execution_count": 28,
   "metadata": {},
   "outputs": [],
   "source": [
    "beta_t, L_vals = grad_descent(X, y)"
   ]
  },
  {
   "cell_type": "code",
   "execution_count": 32,
   "metadata": {},
   "outputs": [
    {
     "data": {
      "text/plain": [
       "542.8782304640074"
      ]
     },
     "execution_count": 32,
     "metadata": {},
     "output_type": "execute_result"
    }
   ],
   "source": [
    "sum(L_vals)"
   ]
  },
  {
   "cell_type": "code",
   "execution_count": 29,
   "metadata": {
    "scrolled": true
   },
   "outputs": [
    {
     "data": {
      "text/plain": [
       "[<matplotlib.lines.Line2D at 0x7ff4db975f40>]"
      ]
     },
     "execution_count": 29,
     "metadata": {},
     "output_type": "execute_result"
    },
    {
     "data": {
      "image/png": "[encoded data removed]",
      "text/plain": [
       "<Figure size 432x288 with 1 Axes>"
      ]
     },
     "metadata": {
      "needs_background": "light"
     },
     "output_type": "display_data"
    }
   ],
   "source": [
    "plt.plot(L_vals)"
   ]
  },
  {
   "cell_type": "code",
   "execution_count": 30,
   "metadata": {},
   "outputs": [
    {
     "name": "stdout",
     "output_type": "stream",
     "text": [
      "Accuracy:  70.0 %\n"
     ]
    }
   ],
   "source": [
    "# prediction\n",
    "\n",
    "N = X_val.shape[0]\n",
    "K = 3\n",
    "total = 0\n",
    "\n",
    "for i in range(N):\n",
    "    xiHat = X_val[[i]]\n",
    "    yi = np.zeros((K,1))\n",
    "    yi[y_test[i]] = 1\n",
    "    \n",
    "    qi = softmax(beta_t @ xiHat.transpose())\n",
    "    max_prob = qi.argmax()                         #get index of highest probability in my ith example\n",
    "    \n",
    "    test_pred = np.zeros((K,1))                   \n",
    "    test_pred[max_prob] = 1                       #convert probability vector to a vector with 0 and 1 only\n",
    "    \n",
    "    check = np.vdot(test_pred, yi)                #element wise multiplication, if match, then check = 1, if no match, check = 0 \n",
    "    total += check\n",
    "    \n",
    "print(\"Accuracy: \", (total / N) * 100, \"%\")"
   ]
  },
  {
   "cell_type": "code",
   "execution_count": null,
   "metadata": {},
   "outputs": [],
   "source": []
  },
  {
   "cell_type": "code",
   "execution_count": 33,
   "metadata": {},
   "outputs": [],
   "source": [
    "df = pd.read_csv('/Users/dchant/Desktop/Math373/Project2/archive/mnist_train.csv')"
   ]
  },
  {
   "cell_type": "code",
   "execution_count": 34,
   "metadata": {},
   "outputs": [
    {
     "data": {
      "text/plain": [
       "(60000, 785)"
      ]
     },
     "execution_count": 34,
     "metadata": {},
     "output_type": "execute_result"
    }
   ],
   "source": [
    "df.shape"
   ]
  },
  {
   "cell_type": "code",
   "execution_count": null,
   "metadata": {},
   "outputs": [],
   "source": []
  }
 ],
 "metadata": {
  "kernelspec": {
   "display_name": "Python 3",
   "language": "python",
   "name": "python3"
  },
  "language_info": {
   "codemirror_mode": {
    "name": "ipython",
    "version": 3
   },
   "file_extension": ".py",
   "mimetype": "text/x-python",
   "name": "python",
   "nbconvert_exporter": "python",
   "pygments_lexer": "ipython3",
   "version": "3.8.5"
  }
 },
 "nbformat": 4,
 "nbformat_minor": 4
}
