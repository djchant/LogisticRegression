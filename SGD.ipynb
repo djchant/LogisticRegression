{
 "cells": [
  {
   "cell_type": "code",
   "execution_count": 1,
   "metadata": {},
   "outputs": [],
   "source": [
    "import numpy as np\n",
    "import matplotlib.pyplot as plt\n",
    "import pandas as pd\n",
    "from sklearn.preprocessing import StandardScaler\n",
    "from sklearn import datasets\n",
    "from sklearn.model_selection import train_test_split"
   ]
  },
  {
   "cell_type": "code",
   "execution_count": 83,
   "metadata": {},
   "outputs": [],
   "source": [
    "def preprocess(data):\n",
    "    x = data.iloc[:, 1:]\n",
    "    x = x / 255.0\n",
    "    y = data.iloc[:, 0].to_numpy()\n",
    "    \n",
    "    x = np.insert(x.values, 0, 1, axis = 1)    #adding bias unit for all images\n",
    "        \n",
    "    return x, y"
   ]
  },
  {
   "cell_type": "code",
   "execution_count": 3,
   "metadata": {},
   "outputs": [],
   "source": [
    "def softmax(u):\n",
    "    expu = np.exp(u)\n",
    "    return expu / np.sum(expu)"
   ]
  },
  {
   "cell_type": "code",
   "execution_count": 4,
   "metadata": {},
   "outputs": [],
   "source": [
    "def crossEntropy(p,q):\n",
    "    return -np.vdot(p,np.log(q))"
   ]
  },
  {
   "cell_type": "code",
   "execution_count": 63,
   "metadata": {},
   "outputs": [],
   "source": [
    "def grad_L(X,Y,beta):\n",
    "    N = X.shape[0]\n",
    "    L = 0.0\n",
    "    \n",
    "    for i in range(N):\n",
    "        XiHat = X[i]\n",
    "        Yi = Y[i]\n",
    "        qi = softmax(beta @ XiHat)\n",
    "        \n",
    "        L += crossEntropy(Yi, qi)\n",
    "        \n",
    "    return L"
   ]
  },
  {
   "cell_type": "code",
   "execution_count": 102,
   "metadata": {},
   "outputs": [],
   "source": [
    "def grad_descent(X,Y, alpha, batch_size):\n",
    "    numEpochs = 5\n",
    "    N, d = X.shape\n",
    "    X = np.insert(X,0,1,axis = 1)\n",
    "    K = Y.shape[1]\n",
    "    \n",
    "    beta = np.zeros((K, d+1))\n",
    "    Lvals = []\n",
    "    \n",
    "    for ep in range(numEpochs):\n",
    "        \n",
    "        L = grad_L(X,Y,beta)\n",
    "        Lvals.append(L)\n",
    "        \n",
    "        print(\"Epoch is: \" + str(ep) + \" Cost is: \" + str(L))\n",
    "        \n",
    "        numBatches = N // batch_size\n",
    "        \n",
    "        for j in range(numBatches):\n",
    "        \n",
    "            prm = np.random.permutation(N)    #randomize the row indices\n",
    "            prm = prm[0:batch_size]           #grab first group of random rows \n",
    "            \n",
    "            for i in prm:     #choose one random row at a time\n",
    "\n",
    "                XiHat = X[i]\n",
    "                Yi = Y[i]\n",
    "\n",
    "                qi = softmax(beta @ XiHat)\n",
    "                grad_Li = np.outer(qi - Yi, XiHat)\n",
    "\n",
    "                beta = beta - alpha * grad_Li\n",
    "    \n",
    "    \n",
    "    return beta, Lvals"
   ]
  },
  {
   "cell_type": "code",
   "execution_count": 30,
   "metadata": {},
   "outputs": [],
   "source": [
    "def predictLabels(X, beta):\n",
    "    X = np.insert(X, 0, 1, axis = 1)\n",
    "    N = X.shape[0]\n",
    "    predictions = []\n",
    "    probabilities = []        #used to find examples our model found difficult\n",
    "    \n",
    "    for i in range(N):\n",
    "        XiHat = X[i]\n",
    "        qi = softmax(beta @ XiHat)\n",
    "        \n",
    "        k = np.argmax(qi)\n",
    "        predictions.append(k)\n",
    "        probabilities.append(np.max(qi))\n",
    "        \n",
    "    return predictions, probabilities"
   ]
  },
  {
   "cell_type": "code",
   "execution_count": 52,
   "metadata": {},
   "outputs": [],
   "source": [
    "def difficult(x_test, beta, y_test):\n",
    "    N_test = x_test.shape[0]\n",
    "    predictions, probabilities = predictLabels(x_test, beta)\n",
    "\n",
    "    agreement = (predictions == y_test)\n",
    "    sortedIdxs = np.argsort(probabilities)\n",
    "    sortedIdxs = sortedIdxs[ :: -1]\n",
    "\n",
    "    difficultExamples = []\n",
    "\n",
    "    for i in sortedIdxs:\n",
    "        if agreement[i] == False:\n",
    "            difficultExamples.append(i)\n",
    "            \n",
    "    return difficultExamples"
   ]
  },
  {
   "cell_type": "code",
   "execution_count": 54,
   "metadata": {},
   "outputs": [],
   "source": [
    "def accuracy(x_test, beta, y_test):\n",
    "    N_test = x_test.shape[0]\n",
    "    predictions, probabilities = predictLabels(x_test, beta)\n",
    "    \n",
    "    numCorrect = 0\n",
    "    for i in range(N_test):\n",
    "\n",
    "        if predictions[i] == y_test[i]:\n",
    "            numCorrect += 1 \n",
    "\n",
    "    accuracy = numCorrect / N_test\n",
    "    print('Accuracy: ' + str(accuracy))"
   ]
  },
  {
   "cell_type": "code",
   "execution_count": 56,
   "metadata": {},
   "outputs": [],
   "source": [
    "def showDifficult(z, difficultExamples):\n",
    "    i = difficultExamples[z]\n",
    "    Xi = np.reshape(x_test[i][1:], (28,28))\n",
    "    plt.imshow(Xi)\n",
    "    print('Predicted: ' , predictions[i])\n",
    "    print('Actual: ' , y_test[i])"
   ]
  },
  {
   "cell_type": "code",
   "execution_count": null,
   "metadata": {},
   "outputs": [],
   "source": []
  },
  {
   "cell_type": "code",
   "execution_count": 96,
   "metadata": {},
   "outputs": [],
   "source": [
    "train = pd.read_csv('/Users/dchant/Desktop/Math373/Project2/archive/mnist_train.csv')\n",
    "test = pd.read_csv('/Users/dchant/Desktop/Math373/Project2/archive/mnist_test.csv')"
   ]
  },
  {
   "cell_type": "code",
   "execution_count": 105,
   "metadata": {},
   "outputs": [
    {
     "name": "stdout",
     "output_type": "stream",
     "text": [
      "Epoch is: 0 Cost is: 138155.10557972503\n",
      "Epoch is: 1 Cost is: 18273.633591686354\n",
      "Epoch is: 2 Cost is: 17339.949013424834\n",
      "Epoch is: 3 Cost is: 16401.010169327245\n",
      "Epoch is: 4 Cost is: 16779.379183483714\n",
      "Accuracy: 0.9203\n",
      "\n",
      "CPU times: user 39.8 s, sys: 2.19 s, total: 42 s\n",
      "Wall time: 49.6 s\n"
     ]
    },
    {
     "data": {
      "image/png": "[encoded data removed]",
      "text/plain": [
       "<Figure size 432x288 with 1 Axes>"
      ]
     },
     "metadata": {
      "needs_background": "light"
     },
     "output_type": "display_data"
    }
   ],
   "source": [
    "%%time\n",
    "\n",
    "x_train, y_train = preprocess(train)\n",
    "x_test, y_test = preprocess(test)\n",
    "\n",
    "y_train = pd.get_dummies(y_train).values\n",
    "\n",
    "alpha = 0.01\n",
    "batch_size = 32\n",
    "beta, Lvals = grad_descent(x_train, y_train, alpha, batch_size)\n",
    "\n",
    "plt.semilogy(Lvals)\n",
    "accuracy(x_test, beta, y_test)\n",
    "print()"
   ]
  },
  {
   "cell_type": "code",
   "execution_count": 98,
   "metadata": {},
   "outputs": [
    {
     "name": "stdout",
     "output_type": "stream",
     "text": [
      "Predicted:  4\n",
      "Actual:  8\n"
     ]
    },
    {
     "data": {
      "image/png": "[encoded data removed]",
      "text/plain": [
       "<Figure size 432x288 with 1 Axes>"
      ]
     },
     "metadata": {
      "needs_background": "light"
     },
     "output_type": "display_data"
    }
   ],
   "source": [
    "#array of difficult examples\n",
    "difficultExamples = difficult(x_test, beta, y_test)\n",
    "\n",
    "#change the number to get the ith difficult example\n",
    "showDifficult(4, difficultExamples)       "
   ]
  },
  {
   "cell_type": "code",
   "execution_count": null,
   "metadata": {},
   "outputs": [],
   "source": []
  }
 ],
 "metadata": {
  "kernelspec": {
   "display_name": "Python 3",
   "language": "python",
   "name": "python3"
  },
  "language_info": {
   "codemirror_mode": {
    "name": "ipython",
    "version": 3
   },
   "file_extension": ".py",
   "mimetype": "text/x-python",
   "name": "python",
   "nbconvert_exporter": "python",
   "pygments_lexer": "ipython3",
   "version": "3.8.5"
  }
 },
 "nbformat": 4,
 "nbformat_minor": 4
}
